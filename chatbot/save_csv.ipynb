{
 "cells": [
  {
   "cell_type": "code",
   "execution_count": 1,
   "metadata": {},
   "outputs": [],
   "source": [
    "import sys\n",
    "\n",
    "sys.path.append('./module')"
   ]
  },
  {
   "cell_type": "code",
   "execution_count": 2,
   "metadata": {},
   "outputs": [],
   "source": [
    "import data_loader"
   ]
  },
  {
   "cell_type": "code",
   "execution_count": 5,
   "metadata": {},
   "outputs": [],
   "source": [
    "file_path = './data/' # 본인의 경로 설정\n",
    "file_name = ['개인및관계.json', '미용과건강.json', '상거래(쇼핑).json', '시사교육.json', '식음료.json', '여가생활.json', '일과직업.json', '주거와생활.json','행사.json']\n",
    "frame_name = ['personal', 'healthy', 'shopping', 'education', 'food', 'hobby', 'work', 'living', 'event']\n",
    "\n",
    "save_path = './csv/' # 본인의 경로 설정\n",
    "save_name = ['개인및관계.csv', '미용과건강.csv', '상거래(쇼핑).csv', '시사교육.csv', '식음료.csv', '여가생활.csv', '일과직업.csv', '주거와생활.csv','행사.csv']"
   ]
  },
  {
   "cell_type": "code",
   "execution_count": 10,
   "metadata": {},
   "outputs": [
    {
     "name": "stderr",
     "output_type": "stream",
     "text": [
      "100%|██████████| 25813/25813 [08:28<00:00, 50.72it/s, Loading... [./data/상거래(쇼핑).json]]\n",
      "100%|██████████| 12829/12829 [03:13<00:00, 66.18it/s, Loading... [./data/시사교육.json]]\n",
      "100%|██████████| 29671/29671 [11:14<00:00, 44.02it/s, Loading... [./data/식음료.json]]\n",
      "100%|██████████| 34598/34598 [13:57<00:00, 41.31it/s, Loading... [./data/여가생활.json]]\n",
      "100%|██████████| 20086/20086 [05:37<00:00, 59.54it/s, Loading... [./data/일과직업.json]]\n",
      "100%|██████████| 44492/44492 [23:21<00:00, 31.74it/s, Loading... [./data/주거와생활.json]]\n",
      "100%|██████████| 20930/20930 [06:21<00:00, 54.90it/s, Loading... [./data/행사.json]]\n"
     ]
    }
   ],
   "source": [
    "# 싱글턴 json 변환 후 csv 저장\n",
    "\n",
    "for i in range(len(file_name)):\n",
    "    globals()['{}_frame'.format(frame_name[i])] = data_loader.json_single_loader(file_path+file_name[i])\n",
    "    data_loader.save_csv((globals()['{}_frame'.format(frame_name[i])]), save_path, save_name[i])"
   ]
  },
  {
   "cell_type": "code",
   "execution_count": 11,
   "metadata": {},
   "outputs": [
    {
     "name": "stderr",
     "output_type": "stream",
     "text": [
      "100%|██████████| 26298/26298 [00:25<00:00, 1025.02it/s, Loading... [./data/상거래(쇼핑).json]]\n",
      "100%|██████████| 13119/13119 [00:12<00:00, 1047.23it/s, Loading... [./data/시사교육.json]]\n",
      "100%|██████████| 30184/30184 [00:38<00:00, 789.92it/s, Loading... [./data/식음료.json]]\n",
      "100%|██████████| 35247/35247 [00:45<00:00, 782.53it/s, Loading... [./data/여가생활.json]] \n",
      "100%|██████████| 20428/20428 [00:22<00:00, 902.34it/s, Loading... [./data/일과직업.json]] \n",
      "100%|██████████| 45179/45179 [01:08<00:00, 655.10it/s, Loading... [./data/주거와생활.json]] \n",
      "100%|██████████| 21338/21338 [00:25<00:00, 845.39it/s, Loading... [./data/행사.json]]\n"
     ]
    }
   ],
   "source": [
    "# 멀티턴 json 변환 후 csv 저장\n",
    "\n",
    "save_name = ['개인및관계_multi_turn.csv', '미용과건강_multi_turn.csv', '상거래(쇼핑)_multi_turn.csv', \n",
    "            '시사교육_multi_turn.csv', '식음료_multi_turn.csv','여가생활_multi_turn.csv', '일과직업_multi_turn.csv', \n",
    "            '주거와생활_multi_turn.csv','행사_multi_turn.csv']\n",
    "\n",
    "for i in range(len(file_name)):\n",
    "    globals()['{}_frame'.format(frame_name[i])] = data_loader.json_multi_loader(file_path+file_name[i])\n",
    "    data_loader.save_csv((globals()['{}_frame'.format(frame_name[i])]), save_path, save_name[i])"
   ]
  }
 ],
 "metadata": {
  "kernelspec": {
   "display_name": "Python 3",
   "language": "python",
   "name": "python3"
  },
  "language_info": {
   "codemirror_mode": {
    "name": "ipython",
    "version": 3
   },
   "file_extension": ".py",
   "mimetype": "text/x-python",
   "name": "python",
   "nbconvert_exporter": "python",
   "pygments_lexer": "ipython3",
   "version": "3.10.9"
  },
  "orig_nbformat": 4,
  "vscode": {
   "interpreter": {
    "hash": "9b4cb029d109b9382f2240aeb9c2a8c32c3b4207d78d760e5b5e60970cc03f90"
   }
  }
 },
 "nbformat": 4,
 "nbformat_minor": 2
}
