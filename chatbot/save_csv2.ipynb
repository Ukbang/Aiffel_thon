{
 "cells": [
  {
   "cell_type": "code",
   "execution_count": 1,
   "metadata": {},
   "outputs": [],
   "source": [
    "import sys\n",
    "\n",
    "sys.path.append('./module/')"
   ]
  },
  {
   "cell_type": "code",
   "execution_count": 2,
   "metadata": {},
   "outputs": [],
   "source": [
    "import data_loader"
   ]
  },
  {
   "cell_type": "code",
   "execution_count": 3,
   "metadata": {},
   "outputs": [],
   "source": [
    "file_path = './data/data/'\n",
    "list_name = ['kakao_01/', 'kakao_02/', 'kakao_03/', 'kakao_04/', 'facebook_01/', 'instagram_01/', 'band_01/', 'nateon_01/']"
   ]
  },
  {
   "cell_type": "code",
   "execution_count": 4,
   "metadata": {},
   "outputs": [
    {
     "name": "stderr",
     "output_type": "stream",
     "text": [
      "100%|██████████| 8/8 [00:53<00:00,  6.66s/it, Loading... [nateon_01]]   \n",
      "100%|██████████| 87690/87690 [03:02<00:00, 479.20it/s, transforming to csv file...] \n"
     ]
    }
   ],
   "source": [
    "frame = data_loader.social_json_multi_loader(file_path, list_name)\n",
    "data_loader.save_csv(frame, './csv/', 'social_multi_turn.csv')"
   ]
  }
 ],
 "metadata": {
  "kernelspec": {
   "display_name": "Python 3",
   "language": "python",
   "name": "python3"
  },
  "language_info": {
   "codemirror_mode": {
    "name": "ipython",
    "version": 3
   },
   "file_extension": ".py",
   "mimetype": "text/x-python",
   "name": "python",
   "nbconvert_exporter": "python",
   "pygments_lexer": "ipython3",
   "version": "3.10.9"
  },
  "orig_nbformat": 4,
  "vscode": {
   "interpreter": {
    "hash": "9b4cb029d109b9382f2240aeb9c2a8c32c3b4207d78d760e5b5e60970cc03f90"
   }
  }
 },
 "nbformat": 4,
 "nbformat_minor": 2
}
