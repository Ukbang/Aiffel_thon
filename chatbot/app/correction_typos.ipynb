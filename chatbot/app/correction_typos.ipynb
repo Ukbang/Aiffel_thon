{
 "cells": [
  {
   "cell_type": "code",
   "execution_count": 9,
   "metadata": {},
   "outputs": [],
   "source": [
    "#! pip install hangul-utils\n",
    "import hangul_utils"
   ]
  },
  {
   "cell_type": "code",
   "execution_count": 10,
   "metadata": {},
   "outputs": [],
   "source": [
    "# 자음-초성/종성\n",
    "cons = {'r':'ㄱ', 'R':'ㄲ', 's':'ㄴ', 'e':'ㄷ', 'E':'ㄸ', 'f':'ㄹ', 'a':'ㅁ', 'q':'ㅂ', 'Q':'ㅃ', 't':'ㅅ', 'T':'ㅆ',\n",
    "           'd':'ㅇ', 'w':'ㅈ', 'W':'ㅉ', 'c':'ㅊ', 'z':'ㅋ', 'x':'ㅌ', 'v':'ㅍ', 'g':'ㅎ'}\n",
    "# 모음-중성\n",
    "vowels = {'k':'ㅏ', 'i':'ㅑ', 'j':'ㅓ', 'u':'ㅕ', 'o':'ㅐ', 'O':'ㅒ', 'p':'ㅔ', 'P':'ㅖ', 'h':'ㅗ', 'hk':'ㅘ', 'ho':'ㅙ', 'hl':'ㅚ',\n",
    "           'y':'ㅛ', 'n':'ㅜ', 'nj':'ㅝ', 'np':'ㅞ', 'nl':'ㅟ', 'b':'ㅠ',  'm':'ㅡ', 'ml':'ㅢ', 'l':'ㅣ'}\n",
    "# 자음-종성\n",
    "cons_double = {'rt':'ㄳ', 'sw':'ㄵ', 'sg':'ㄶ', 'fr':'ㄺ', 'fa':'ㄻ', 'fq':'ㄼ', 'ft':'ㄽ', 'fx':'ㄾ', 'fv':'ㄿ', 'fg':'ㅀ', 'qt':'ㅄ'}"
   ]
  },
  {
   "cell_type": "code",
   "execution_count": 11,
   "metadata": {},
   "outputs": [],
   "source": [
    "\n",
    "# def eng2kor(text):\n",
    "#     result = ''   # 영 > 한 변환 결과\n",
    "    \n",
    "#     # 1. 해당 글자가 자음인지 모음인지 확인\n",
    "#     vc = '' \n",
    "#     for t in text:\n",
    "#         if t in cons:\n",
    "#             vc += 'c'\n",
    "#         elif t in vowels:\n",
    "#             vc += 'v'\n",
    "#         else:\n",
    "#             vc += '!'\n",
    "\t\n",
    "#     # cvv → fVV / cv → fv / cc → dd \n",
    "#     vc = vc.replace('cvv', 'fVV').replace('cv', 'fv').replace('cc', 'dd')\n",
    "\t\n",
    "#     # 2. 자음 / 모음 / 두글자 자음 에서 검색\n",
    "#     i = 0\n",
    "#     while i < len(text):\n",
    "#         v = vc[i]\n",
    "#         t = text[i]\n",
    "#         j = 1\n",
    "#         # 한글일 경우\n",
    "#         try:\n",
    "#             if v == 'f' or v == 'c':   # 초성(f) & 자음(c) = 자음\n",
    "#                 result += cons[t]\n",
    "\n",
    "#             elif v == 'V':   # 더블 모음\n",
    "#                 if text[i: i+2] in vowels:\n",
    "#                     result += vowels[text[i: i+2]]\n",
    "#                 else:\n",
    "#                     result += vowels[t]\n",
    "#                     result += vowels[text[i+1]]\n",
    "#                 j += 1\n",
    "\n",
    "#             elif v == 'v':   # 모음\n",
    "#                 result += vowels[t]\n",
    "\n",
    "#             elif v == 'd':   # 더블 자음\n",
    "#                 result += cons_double[text[i: i+2]]\n",
    "#                 j += 1\n",
    "\n",
    "#             else:\n",
    "#                 result += t\n",
    "#         # 한글이 아닐 경우\n",
    "#         except:\n",
    "#             if v in cons:\n",
    "#                 result += cons[t]\n",
    "#             elif v in vowels:\n",
    "#                 result += vowels[t]\n",
    "#             else:\n",
    "#                 result += t\n",
    "        \n",
    "#         i += j\n",
    "\n",
    "#     return hangul_utils.join_jamos(result)"
   ]
  },
  {
   "cell_type": "code",
   "execution_count": 12,
   "metadata": {},
   "outputs": [],
   "source": [
    "def eng2kor(text):\n",
    "    result = ''   # 영 > 한 변환 결과\n",
    "    \n",
    "    # 1. 해당 글자가 자음인지 모음인지 확인\n",
    "    vc = '' \n",
    "    for t in text:\n",
    "        if t in cons:\n",
    "            vc += 'c'\n",
    "        elif t in vowels:\n",
    "            vc += 'v'\n",
    "        else:\n",
    "            vc += '!'\n",
    "\t\n",
    "    # cvv → fVV / cv → fv / cc → dd \n",
    "    vc = vc.replace('cvv', 'fVV').replace('cv', 'fv').replace('cc', 'dd')\n",
    "\t\n",
    "    # 2. 자음 / 모음 / 두글자 자음 에서 검색\n",
    "    i = 0\n",
    "    while i < len(text):\n",
    "        v = vc[i]\n",
    "        t = text[i]\n",
    "        j = 1\n",
    "\n",
    "        if v == 'f' or v == 'c':   # 초성(f) & 자음(c) = 자음\n",
    "            result += cons[t]\n",
    "\n",
    "        elif v == 'V':   # 더블 모음\n",
    "            if text[i: i+2] in vowels:\n",
    "                result += vowels[text[i: i+2]]\n",
    "            else:\n",
    "                result += vowels[t]\n",
    "                result += vowels[text[i+1]]\n",
    "            j += 1\n",
    "\n",
    "        elif v == 'v':   # 모음\n",
    "            result += vowels[t]\n",
    "\n",
    "        elif v == 'd':   # 더블 자음\n",
    "            if text[i: i+2] in cons_double:\n",
    "                result += cons_double[text[i: i+2]]\n",
    "            else:\n",
    "                result += cons[t]\n",
    "                result += cons[text[i+1]]\n",
    "            j += 1\n",
    "\n",
    "        else:\n",
    "            result += t\n",
    "        \n",
    "        i += j\n",
    "\n",
    "    return hangul_utils.join_jamos(result)       "
   ]
  },
  {
   "cell_type": "code",
   "execution_count": 13,
   "metadata": {},
   "outputs": [
    {
     "data": {
      "text/plain": [
       "'뭘봨ㅋㅋㅋㅋ뷁ㅋㅋ사람 처음 봐?'"
      ]
     },
     "execution_count": 13,
     "metadata": {},
     "output_type": "execute_result"
    }
   ],
   "source": [
    "eng2kor('anjfqhkzzzzzqnpfrzztkfka cjdma qhk?')"
   ]
  },
  {
   "cell_type": "code",
   "execution_count": null,
   "metadata": {},
   "outputs": [],
   "source": []
  },
  {
   "cell_type": "code",
   "execution_count": 14,
   "metadata": {},
   "outputs": [],
   "source": [
    "r_cons = {v: k for k, v in cons.items()}\n",
    "r_vowels = {v: k for k, v in vowels.items()}\n",
    "r_cons_double = {v: k for k, v in cons_double.items()}"
   ]
  },
  {
   "cell_type": "code",
   "execution_count": 15,
   "metadata": {},
   "outputs": [],
   "source": [
    "def kor2eng(text):\n",
    "    splited = hangul_utils.split_syllables(text)\n",
    "    result = ''\n",
    "    \n",
    "    for t in splited:\n",
    "        if t in r_cons:\n",
    "            result += r_cons[t]\n",
    "        elif t in r_vowels:\n",
    "            result += r_vowels[t]\n",
    "        elif t in r_cons_double:\n",
    "            result += r_cons_double[t]\n",
    "        else:\n",
    "            result += t\n",
    "\n",
    "    return result"
   ]
  },
  {
   "cell_type": "code",
   "execution_count": 16,
   "metadata": {},
   "outputs": [
    {
     "data": {
      "text/plain": [
       "'anjfqhkzzzzzqnpfrzztkfka cjdma qhk?'"
      ]
     },
     "execution_count": 16,
     "metadata": {},
     "output_type": "execute_result"
    }
   ],
   "source": [
    "kor2eng('뭘봨ㅋㅋㅋㅋ뷁ㅋㅋ사람 처음 봐?')"
   ]
  }
 ],
 "metadata": {
  "kernelspec": {
   "display_name": "venv",
   "language": "python",
   "name": "python3"
  },
  "language_info": {
   "codemirror_mode": {
    "name": "ipython",
    "version": 3
   },
   "file_extension": ".py",
   "mimetype": "text/x-python",
   "name": "python",
   "nbconvert_exporter": "python",
   "pygments_lexer": "ipython3",
   "version": "3.9.12 (main, Apr  5 2022, 01:52:34) \n[Clang 12.0.0 ]"
  },
  "orig_nbformat": 4,
  "vscode": {
   "interpreter": {
    "hash": "8a0b1b7ee905a6912943c9a3ed9007db8cb5e7ed84c9ce170cffefbc9d2753f3"
   }
  }
 },
 "nbformat": 4,
 "nbformat_minor": 2
}
