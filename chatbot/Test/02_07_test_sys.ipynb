{
 "cells": [
  {
   "cell_type": "code",
   "execution_count": 1,
   "id": "42dad0b2",
   "metadata": {},
   "outputs": [],
   "source": [
    "import torch\n",
    "import pandas as pd\n",
    "import numpy as np\n",
    "import matplotlib.pyplot as plt\n",
    "import time\n",
    "import os\n",
    "import re\n",
    "from transformers import AutoTokenizer, GPT2LMHeadModel\n",
    "from torch.utils.data import DataLoader, Dataset\n",
    "from tqdm import tqdm\n",
    "import datetime\n",
    "import warnings\n",
    "warnings.filterwarnings('ignore')\n",
    "\n",
    "os.environ[\"TOKENIZERS_PARALLELISM\"] = \"false\""
   ]
  },
  {
   "cell_type": "code",
   "execution_count": 2,
   "id": "ca46cbff",
   "metadata": {},
   "outputs": [
    {
     "data": {
      "application/vnd.jupyter.widget-view+json": {
       "model_id": "f33667bd0544498caeb4c1e7bfd62d51",
       "version_major": 2,
       "version_minor": 0
      },
      "text/plain": [
       "Downloading:   0%|          | 0.00/0.98k [00:00<?, ?B/s]"
      ]
     },
     "metadata": {},
     "output_type": "display_data"
    },
    {
     "data": {
      "application/vnd.jupyter.widget-view+json": {
       "model_id": "d89ab2b2b04a4f0997a3e2c088c26262",
       "version_major": 2,
       "version_minor": 0
      },
      "text/plain": [
       "Downloading:   0%|          | 0.00/2.69M [00:00<?, ?B/s]"
      ]
     },
     "metadata": {},
     "output_type": "display_data"
    },
    {
     "data": {
      "application/vnd.jupyter.widget-view+json": {
       "model_id": "07dc219f5ee64a54a11ccbd5931b667b",
       "version_major": 2,
       "version_minor": 0
      },
      "text/plain": [
       "Downloading:   0%|          | 0.00/490M [00:00<?, ?B/s]"
      ]
     },
     "metadata": {},
     "output_type": "display_data"
    }
   ],
   "source": [
    "class cfg:\n",
    "    usr_token = \"<usr>\"\n",
    "    sys_token = \"<sys>\"\n",
    "    bos_token = '<s>'\n",
    "    eos_token = '</s>'\n",
    "    mask_token = '<mask>'\n",
    "    pad_token = '<pad>'\n",
    "    unk_token = '<unk>'\n",
    "    max_len = 256\n",
    "    max_turns = 2\n",
    "    pre_epochs = 0\n",
    "    epochs = 5\n",
    "    device = torch.device(\"cuda\" if torch.cuda.is_available() else \"cpu\")\n",
    "    learning_rate = 1e-4\n",
    "    model_name = \"skt/kogpt2-base-v2\"\n",
    "    labeling_type = True\n",
    "\n",
    "tokenizer = AutoTokenizer.from_pretrained(cfg.model_name,\n",
    "            bos_token=cfg.bos_token, eos_token=cfg.eos_token, unk_token=cfg.unk_token,\n",
    "            pad_token=cfg.pad_token, mask_token=cfg.mask_token, model_max_length = cfg.max_len)\n",
    "\n",
    "model = GPT2LMHeadModel.from_pretrained(cfg.model_name)"
   ]
  },
  {
   "cell_type": "code",
   "execution_count": 7,
   "id": "9985032c",
   "metadata": {},
   "outputs": [
    {
     "name": "stdout",
     "output_type": "stream",
     "text": [
      "완료\n"
     ]
    }
   ],
   "source": [
    "# path = './check_point/2023-02-01-08h-18m_epoch_5_sk_labeling_True.pth' # 말은 길게 하는데 내용이 애매함.\n",
    "# path = './check_point/2023-02-01-07h-03m_epoch_4_sk_labeling_True.pth' # 현재까지 best..\n",
    "# path = './check_point/2023-02-01-05h-49m_epoch_3_sk_labeling_True.pth'\n",
    "path = './check_point/23-02-06_17h24m_epoch5_sys.pth'\n",
    "\n",
    "model.load_state_dict(torch.load(path)) \n",
    "model.to(cfg.device)\n",
    "print('완료')"
   ]
  },
  {
   "cell_type": "code",
   "execution_count": 8,
   "id": "9c2d58ed",
   "metadata": {},
   "outputs": [
    {
     "name": "stdout",
     "output_type": "stream",
     "text": [
      "user >> 점심 먹었어?\n",
      "bot  >> 응응 아직 안먹었어! 넌 뭐 먹었오?..너는 뭐 먹고싶은거 없어?\n",
      "user >> 나는 비빔밥 먹고싶어!\n",
      "bot  >> 비빔밥이랑 오뎅탕도 먹고싶다 _비빔밥 맛있겠다나는 콩나물 국밥 먹고\n",
      "user >> 끝\n"
     ]
    }
   ],
   "source": [
    "history = []\n",
    "bad_words = [tokenizer.encode(token) for token in [cfg.eos_token, cfg.unk_token, cfg.sys_token, cfg.usr_token, 'ㅋ', 'ㅠ', 'ㅠㅠ', 'ㅜㅜ', 'ㅜ', 'ㅎ', 'ㅠㅜ', 'ㅜㅠ', 'ㅋㅎ', 'ㅎㅋ', '.', '하하']]\n",
    "model.to(cfg.device)\n",
    "\n",
    "while True:\n",
    "    _input = input('user >> ')\n",
    "    input_sent = cfg.usr_token + _input + cfg.sys_token\n",
    "    \n",
    "    if _input == '끝':\n",
    "        break\n",
    "    if len(history) > cfg.max_turns * 2:\n",
    "        history = history[2: ]\n",
    "    if len(history) == 0:\n",
    "        input_sent = cfg.bos_token + input_sent\n",
    "\n",
    "    history.append(input_sent)\n",
    "    \n",
    "    input_ids = tokenizer.encode(' '.join(history), return_tensors=\"pt\").to(cfg.device)\n",
    "    \n",
    "    with torch.no_grad():\n",
    "        gen_ids = model.generate(\n",
    "                        input_ids,\n",
    "                        temperature=0.9,\n",
    "                        top_k=3,\n",
    "                        top_p=0.95,\n",
    "                        num_beams=3,\n",
    "                        do_sample=True,\n",
    "                        max_length=1000,\n",
    "                        no_repeat_ngram_size=3,\n",
    "                        repetition_penalty=2.0,\n",
    "                        penalty_alpha=2.0,\n",
    "                        max_new_tokens=25,\n",
    "                        length_penalty= 0.1,\n",
    "                        early_stopping= True,\n",
    "                        bos_token_id = tokenizer.convert_tokens_to_ids(cfg.sys_token),\n",
    "                        eos_token_id = tokenizer.convert_tokens_to_ids(cfg.usr_token),\n",
    "                        bad_words_ids = bad_words\n",
    "                    )        \n",
    "        \n",
    "    \n",
    "    generated = gen_ids[0, input_ids.shape[-1]: -1]\n",
    "    generated = tokenizer.decode(generated)\n",
    "    history.append(generated)\n",
    "\n",
    "    print(f'bot  >> {generated}')"
   ]
  },
  {
   "cell_type": "code",
   "execution_count": 4,
   "id": "e438cc0f",
   "metadata": {},
   "outputs": [
    {
     "name": "stdout",
     "output_type": "stream",
     "text": [
      "user > 운동 좋아해?\n"
     ]
    },
    {
     "name": "stderr",
     "output_type": "stream",
     "text": [
      "/opt/conda/lib/python3.9/site-packages/transformers/generation_utils.py:874: UserWarning: Both `max_length` and `max_new_tokens` have been set but they serve the same purpose.\n",
      "  warnings.warn(\n"
     ]
    },
    {
     "name": "stdout",
     "output_type": "stream",
     "text": [
      "Chatbot > <s><usr> 운동 좋아해?<sys> 난 피티받구 싶어 ᄏᄏ피티는 돈내고 하는 운동!? </s>\n",
      "Chatbot >  난 피티받구 싶어 ᄏᄏ피티는 돈내고 하는 운동!? \n",
      "user > 그치 돈내고 하는 운동이지 피티는 ㅋㅋ\n",
      "Chatbot > <s><usr> 운동 좋아해?<sys> 난 피티받구 싶어 ᄏᄏ피티는 돈내고 하는 운동!? <usr> 그치 돈내고 하는 운동이지 피티는 ᄏᄏ아 근데 피티로 하는거 넘 비싸 ㅠㅠ ᅮ 뭔가 하고 싶은거</s>\n",
      "Chatbot >  난 피티받구 싶어 ᄏᄏ피티는 돈내고 하는 운동!? <usr> 그치 돈내고 하는 운동이지 피티는 ᄏᄏ아 근데 피티로 하는거 넘 비싸 ㅠㅠ ᅮ 뭔가 하고 싶은거\n",
      "user > 끝\n"
     ]
    }
   ],
   "source": [
    "\"\"\"\n",
    "대화 함수\n",
    "끝으로 대화 종료\n",
    "초기화로 이전 대화 초기화\n",
    "\n",
    "이전 대화가 history에 남아있음.\n",
    "\"\"\"\n",
    "\n",
    "history = \"\"\n",
    "start=True\n",
    "model.to(cfg.device)\n",
    "\n",
    "while True:\n",
    "    _input = input(\"user > \")\n",
    "    \n",
    "    if _input == \"끝\":\n",
    "        break\n",
    "    if _input == \"초기화\":\n",
    "        history = \"\"\n",
    "        continue\n",
    "    if start:\n",
    "        _input_word = cfg.bos_token + cfg.usr_token + _input + cfg.sys_token\n",
    "        history += _input_word\n",
    "        start = False\n",
    "    else:\n",
    "        _input_word = cfg.usr_token + _input #+ cfg.sys_token\n",
    "        history += _input_word\n",
    "        \n",
    "    input_ids = tokenizer.encode(history, return_tensors=\"pt\").to(cfg.device)\n",
    "    \n",
    "    with torch.no_grad():\n",
    "        gen_ids = model.generate(\n",
    "            input_ids,\n",
    "            tok_k=3,\n",
    "            top_p=0.92,\n",
    "            num_beams=3,\n",
    "            do_samples=True,\n",
    "            max_length=100,\n",
    "            no_repeat_ngram_size=3,\n",
    "            repetition_penalty=1.2,\n",
    "            temperature=0.9,\n",
    "            max_new_tokens=20,\n",
    "#             forced_bos_token_id= tokenizer.convert_tokens_to_ids(cfg.sys_token),\n",
    "#             forced_eos_token_id= tokenizer.convert_tokens_to_ids(cfg.eos_token),\n",
    "            bad_words_ids=[[tokenizer.convert_tokens_to_ids(cfg.sys_token)], [tokenizer.convert_tokens_to_ids('하하')]]\n",
    "        )\n",
    "    \n",
    "    gen = tokenizer.decode(gen_ids[0])\n",
    "    try:\n",
    "        generated = gen[gen.rfind(\"<sys>\")+5:gen.index(\"</s>\")]\n",
    "    except:\n",
    "        generated = gen[gen.rfind(\"<sys>\")+5:]\n",
    "    history += generated\n",
    "    \n",
    "    print(f'Chatbot > {gen}')\n",
    "    print(f'Chatbot > {generated}')"
   ]
  },
  {
   "cell_type": "code",
   "execution_count": 281,
   "id": "9df6534a",
   "metadata": {},
   "outputs": [
    {
     "name": "stdout",
     "output_type": "stream",
     "text": [
      "user > 치킨 먹고싶다\n",
      "gen > <s><usr> 치킨 먹고싶다<sys> 난 교촌치킨이 땡겨<usr>\n",
      "Chatbot > \n",
      "user > 교촌치킨 좋아해?\n",
      "gen > <s><usr> 치킨 먹고싶다<sys><usr> 교촌치킨 좋아해?<sys> 응응 맛있더라 ᄏᄏ<sys> 교촌에서 먹은거중에 제일 맛있는듯<sys> 교촌은 진짜 다 맛있어..<sys> 근데\n",
      "Chatbot > \n",
      "user > 끝\n"
     ]
    }
   ],
   "source": [
    "\"\"\"\n",
    "대화 함수\n",
    "끝으로 대화 종료\n",
    "초기화로 이전 대화 초기화\n",
    "\n",
    "이전 대화가 history에 남아있음.\n",
    "\"\"\"\n",
    "\n",
    "history = \"\"\n",
    "start=True\n",
    "model.to(cfg.device)\n",
    "\n",
    "while True:\n",
    "    _input = input(\"user > \")\n",
    "    \n",
    "    if _input == \"끝\":\n",
    "        break\n",
    "    if _input == \"초기화\":\n",
    "        history = \"\"\n",
    "        continue\n",
    "    if start:\n",
    "        _input_word = cfg.bos_token + cfg.usr_token + _input + cfg.sys_token\n",
    "        #_input_word =  _input\n",
    "        history += _input_word\n",
    "        start = False\n",
    "    else:\n",
    "        _input_word = cfg.usr_token + _input + cfg.sys_token\n",
    "        history += _input_word\n",
    "        \n",
    "    input_ids = tokenizer.encode(history, return_tensors=\"pt\").to(cfg.device)\n",
    "    \n",
    "    with torch.no_grad():\n",
    "        gen_ids = model.generate(\n",
    "            input_ids,\n",
    "            top_k=5,\n",
    "            top_p=0.92,\n",
    "            max_length=1000,\n",
    "            no_repeat_ngram_size=3,\n",
    "            repetition_penalty=1.2,\n",
    "            temperature=0.5,\n",
    "            max_new_tokens=30,\n",
    "            bos_token_id = tokenizer.convert_tokens_to_ids(cfg.sys_token),\n",
    "            eos_token_id = tokenizer.convert_tokens_to_ids(cfg.usr_token),\n",
    "#             forced_bos_token_id= tokenizer.convert_tokens_to_ids(cfg.sys_token),\n",
    "#             forced_eos_token_id= tokenizer.convert_tokens_to_ids(cfg.eos_token),\n",
    "            bad_word_ids=[[tokenizer.convert_tokens_to_ids(cfg.sys_token)], [tokenizer.convert_tokens_to_ids('하하')]]\n",
    "        )\n",
    "    \n",
    "    gen = tokenizer.decode(gen_ids[0])\n",
    "        \n",
    "    history += generated\n",
    "    \n",
    "    print(f'gen > {gen}')\n",
    "    print(f'Chatbot > {generated}')"
   ]
  },
  {
   "cell_type": "code",
   "execution_count": 263,
   "id": "2eec3388",
   "metadata": {},
   "outputs": [
    {
     "data": {
      "text/plain": [
       "'<s><usr>운동 좋아해?<sys>'"
      ]
     },
     "execution_count": 263,
     "metadata": {},
     "output_type": "execute_result"
    }
   ],
   "source": [
    "history"
   ]
  },
  {
   "cell_type": "code",
   "execution_count": 278,
   "id": "90603f0f",
   "metadata": {},
   "outputs": [
    {
     "data": {
      "text/plain": [
       "' 나는 헬스 좋아해. 너는?<sys> 나도! ᄏᄏ근데 요즘 코로나때문에 못가고 있어.<sys> 아 맞다'"
      ]
     },
     "execution_count": 278,
     "metadata": {},
     "output_type": "execute_result"
    }
   ],
   "source": [
    "gen[len(history)+1:]"
   ]
  },
  {
   "cell_type": "code",
   "execution_count": 260,
   "id": "0c19f2b2",
   "metadata": {},
   "outputs": [],
   "source": [
    "a = '라면 먹었어<sys> 왜 라면 먹었어'\n",
    "b = '라면 먹었어<sys> 왜 라면 먹었어 <usr> 그냥 배고파서!'"
   ]
  },
  {
   "cell_type": "code",
   "execution_count": null,
   "id": "1932e9c3",
   "metadata": {},
   "outputs": [],
   "source": []
  },
  {
   "cell_type": "code",
   "execution_count": 79,
   "id": "d1412ecf",
   "metadata": {},
   "outputs": [
    {
     "data": {
      "text/plain": [
       "'<usr>'"
      ]
     },
     "execution_count": 79,
     "metadata": {},
     "output_type": "execute_result"
    }
   ],
   "source": [
    "gen[86:]"
   ]
  },
  {
   "cell_type": "code",
   "execution_count": 77,
   "id": "8f438ee2",
   "metadata": {},
   "outputs": [
    {
     "data": {
      "text/plain": [
       "84"
      ]
     },
     "execution_count": 77,
     "metadata": {},
     "output_type": "execute_result"
    }
   ],
   "source": [
    "len(''.join(history))"
   ]
  },
  {
   "cell_type": "code",
   "execution_count": 74,
   "id": "b4b468ef",
   "metadata": {},
   "outputs": [
    {
     "data": {
      "text/plain": [
       "'ᅲ.<usr>'"
      ]
     },
     "execution_count": 74,
     "metadata": {},
     "output_type": "execute_result"
    }
   ],
   "source": [
    "gen[len(''.join(history)):]"
   ]
  },
  {
   "cell_type": "code",
   "execution_count": 68,
   "id": "bafcc4d6",
   "metadata": {},
   "outputs": [
    {
     "data": {
      "text/plain": [
       "'나도<usr>'"
      ]
     },
     "execution_count": 68,
     "metadata": {},
     "output_type": "execute_result"
    }
   ],
   "source": [
    "gen[len(''.join(history)):]"
   ]
  },
  {
   "cell_type": "code",
   "execution_count": 70,
   "id": "86d4e973",
   "metadata": {},
   "outputs": [
    {
     "data": {
      "text/plain": [
       "'<s><usr>필라테스 하러갈래?<sys>필라테스? ᄏᄏ<usr>응응 필라테스!<sys>> 필라테스가 뭐더라..? 필라테스는.. 뭔가.. ᄏ ᄏ나도'"
      ]
     },
     "execution_count": 70,
     "metadata": {},
     "output_type": "execute_result"
    }
   ],
   "source": [
    "''.join(history)"
   ]
  },
  {
   "cell_type": "code",
   "execution_count": 66,
   "id": "bec416e4",
   "metadata": {},
   "outputs": [
    {
     "data": {
      "text/plain": [
       "['<s><usr>필라테스 하러갈래?<sys>',\n",
       " '필라테스? ᄏᄏ',\n",
       " '<usr>응응 필라테스!<sys>',\n",
       " '> 필라테스가 뭐더라..? 필라테스는.. 뭔가.. ᄏ ᄏ나도']"
      ]
     },
     "execution_count": 66,
     "metadata": {},
     "output_type": "execute_result"
    }
   ],
   "source": [
    "history"
   ]
  },
  {
   "cell_type": "code",
   "execution_count": 69,
   "id": "f3a931e4",
   "metadata": {},
   "outputs": [
    {
     "data": {
      "text/plain": [
       "'<s><usr> 필라테스 하러갈래?<sys> 필라테스? ᄏᄏ<usr> 응응 필라테스!<sys> 필라테스가 뭐더라..? 필라테스는.. 뭔가.. ᄏ ᄏ나도<usr>'"
      ]
     },
     "execution_count": 69,
     "metadata": {},
     "output_type": "execute_result"
    }
   ],
   "source": [
    "gen"
   ]
  },
  {
   "cell_type": "code",
   "execution_count": 59,
   "id": "f0d9cd19",
   "metadata": {},
   "outputs": [
    {
     "data": {
      "text/plain": [
       "['<s><usr>운동 좋아해?<sys>',\n",
       " '나는 운동 좋아하긴 하는데 ᄏᄏ너는?',\n",
       " '<usr>나도 좋아해!<sys>',\n",
       " '',\n",
       " '<usr>아 진짜?<sys>',\n",
       " '']"
      ]
     },
     "execution_count": 59,
     "metadata": {},
     "output_type": "execute_result"
    }
   ],
   "source": [
    "history"
   ]
  },
  {
   "cell_type": "code",
   "execution_count": 44,
   "id": "95aae635",
   "metadata": {},
   "outputs": [
    {
     "data": {
      "text/plain": [
       "[19295,\n",
       " 9863,\n",
       " 9122,\n",
       " 9098,\n",
       " 7662,\n",
       " 8006,\n",
       " 406,\n",
       " 9078,\n",
       " 8702,\n",
       " 10972,\n",
       " 20666,\n",
       " 21422,\n",
       " 9651,\n",
       " 8017,\n",
       " 8006,\n",
       " 376,\n",
       " 739,\n",
       " 605,\n",
       " 608,\n",
       " 605]"
      ]
     },
     "execution_count": 44,
     "metadata": {},
     "output_type": "execute_result"
    }
   ],
   "source": [
    "tokenizer.encode('운동은 어떤 거 해봤어? 하하나는 필라테스 했었어! ᄏᄒᄏ')"
   ]
  },
  {
   "cell_type": "code",
   "execution_count": 58,
   "id": "eeb4cd78",
   "metadata": {},
   "outputs": [
    {
     "data": {
      "text/plain": [
       "[12102]"
      ]
     },
     "execution_count": 58,
     "metadata": {},
     "output_type": "execute_result"
    }
   ],
   "source": [
    "tokenizer.encode('나는')"
   ]
  },
  {
   "cell_type": "code",
   "execution_count": 57,
   "id": "c02f41cd",
   "metadata": {},
   "outputs": [
    {
     "data": {
      "text/plain": [
       "'_'"
      ]
     },
     "execution_count": 57,
     "metadata": {},
     "output_type": "execute_result"
    }
   ],
   "source": [
    "tokenizer.decode(437)"
   ]
  },
  {
   "cell_type": "code",
   "execution_count": 51,
   "id": "97b12254",
   "metadata": {},
   "outputs": [
    {
     "data": {
      "text/plain": [
       "'하'"
      ]
     },
     "execution_count": 51,
     "metadata": {},
     "output_type": "execute_result"
    }
   ],
   "source": [
    "tokenizer.decode(8702)"
   ]
  },
  {
   "cell_type": "code",
   "execution_count": 28,
   "id": "3686fce0",
   "metadata": {},
   "outputs": [
    {
     "data": {
      "text/plain": [
       "'무슨카페갈까'"
      ]
     },
     "execution_count": 28,
     "metadata": {},
     "output_type": "execute_result"
    }
   ],
   "source": [
    "gen[len(''.join(history))+2:gen.rfind('<usr>')]"
   ]
  },
  {
   "cell_type": "code",
   "execution_count": 315,
   "id": "100014f9",
   "metadata": {},
   "outputs": [
    {
     "data": {
      "text/plain": [
       "'<s><usr> 점심 먹었어?<sys> 아니 아직!뭐먹을지 고민중이야 ᄏᄏ배고파.. ㅠㅠ ᅮ<sys> 배고프다잉 ᅲᅮ난 이제 저녁 먹어야징 ㅠㅠ 밥이없어서 못먹는중..밥은 먹엇어? ᄒ.ᄏ<sys> 응응 밥먹'"
      ]
     },
     "execution_count": 315,
     "metadata": {},
     "output_type": "execute_result"
    }
   ],
   "source": [
    "tokenizer.decode(*gen_ids)"
   ]
  },
  {
   "cell_type": "code",
   "execution_count": 303,
   "id": "6f21557b",
   "metadata": {},
   "outputs": [
    {
     "data": {
      "text/plain": [
       "'<s><usr> 점심 먹었어?<sys> 응 먹었지. 너는?<sys> 나는 아직 안먹었어 ᄏᄏ너는 뭐 먹어?<sys> 난 오늘 점심 뭐 먹었는지 기억이 안나네 ㅠㅠ 너는 뭐 먹었는데?<sys> 나도 모르겠다 ㅠㅠ 뭐가 먹고싶은데?<sys> 음..<usr>'"
      ]
     },
     "execution_count": 303,
     "metadata": {},
     "output_type": "execute_result"
    }
   ],
   "source": [
    "tokenizer.decode(*gen_ids)"
   ]
  },
  {
   "cell_type": "code",
   "execution_count": 304,
   "id": "6ecd9c1e",
   "metadata": {},
   "outputs": [
    {
     "data": {
      "text/plain": [
       "tensor([[    0,     2,  9240,  7894,  9784,  8017,  8006,   406,     4, 10223,\n",
       "          9784,  8017,  8263,   389, 10099,  7162,   406,     4, 12102, 11059,\n",
       "          9183,  7513,  8017,  8006,   739,   605,   605, 26215, 46651, 33146,\n",
       "           406,     4,  9769, 10070,  9240,  7894, 46651,  9784,  8017, 15433,\n",
       "         14337,  8146,  9183,  7055,  7098,   739,   216, 10099,  7162, 46651,\n",
       "          9784, 16693,   406,     4, 35704, 42138,  7182,   739,   216, 46651,\n",
       "          6824, 15495,  7898,  8135,  7220,   406,     4,  9330,  9705,     2]],\n",
       "       device='cuda:0')"
      ]
     },
     "execution_count": 304,
     "metadata": {},
     "output_type": "execute_result"
    }
   ],
   "source": [
    "gen_ids"
   ]
  },
  {
   "cell_type": "code",
   "execution_count": 231,
   "id": "3579e0d2",
   "metadata": {},
   "outputs": [
    {
     "data": {
      "text/plain": [
       "25"
      ]
     },
     "execution_count": 231,
     "metadata": {},
     "output_type": "execute_result"
    }
   ],
   "source": [
    "gen.rfind('<usr>')"
   ]
  },
  {
   "cell_type": "code",
   "execution_count": 203,
   "id": "f7047a29",
   "metadata": {},
   "outputs": [],
   "source": [
    "a = '<s><usr> 점심 먹었어? 응응 먹었지! <usr> 뭐 먹었어? <sys> 삼겹살 구워먹었엉ᄏᄏ <sys> 오홍ᄏᄏ 맛있겠'"
   ]
  },
  {
   "cell_type": "code",
   "execution_count": 204,
   "id": "024494cc",
   "metadata": {},
   "outputs": [
    {
     "data": {
      "text/plain": [
       "56"
      ]
     },
     "execution_count": 204,
     "metadata": {},
     "output_type": "execute_result"
    }
   ],
   "source": [
    "a.rfind('<sys>')"
   ]
  },
  {
   "cell_type": "code",
   "execution_count": 188,
   "id": "d149bdb2",
   "metadata": {},
   "outputs": [
    {
     "data": {
      "text/plain": [
       "1"
      ]
     },
     "execution_count": 188,
     "metadata": {},
     "output_type": "execute_result"
    }
   ],
   "source": [
    "tokenizer.get_vocab()[cfg.eos_token]"
   ]
  },
  {
   "cell_type": "code",
   "execution_count": 189,
   "id": "4c9ef39e",
   "metadata": {},
   "outputs": [
    {
     "data": {
      "text/plain": [
       "1"
      ]
     },
     "execution_count": 189,
     "metadata": {},
     "output_type": "execute_result"
    }
   ],
   "source": [
    "tokenizer.convert_tokens_to_ids(cfg.eos_token)"
   ]
  },
  {
   "cell_type": "code",
   "execution_count": 176,
   "id": "4363a12b",
   "metadata": {},
   "outputs": [
    {
     "data": {
      "text/plain": [
       "'<s><usr>과일 좋아하는거 있어? 귤은 맛있는데 귤은 너무 달아서 별로야 ㅠㅠ<usr> 맞아 ㅠㅠ 나는 귤이'"
      ]
     },
     "execution_count": 176,
     "metadata": {},
     "output_type": "execute_result"
    }
   ],
   "source": [
    "history"
   ]
  },
  {
   "cell_type": "code",
   "execution_count": 178,
   "id": "02a792b2",
   "metadata": {},
   "outputs": [
    {
     "data": {
      "text/plain": [
       "'이'"
      ]
     },
     "execution_count": 178,
     "metadata": {},
     "output_type": "execute_result"
    }
   ],
   "source": [
    "gen[gen.find(history):]"
   ]
  },
  {
   "cell_type": "code",
   "execution_count": 118,
   "id": "51732e36",
   "metadata": {},
   "outputs": [
    {
     "data": {
      "text/plain": [
       "'<usr> 운동하러갈래?<sys> 머하고싶어? <sys> 축구 ᄏᄏ <sys> 족구 <sys> 축구는 안땡기네 <sys> 뭐먹고싶은데 <sys> 머가땡겨 <sys> <usr>'"
      ]
     },
     "execution_count": 118,
     "metadata": {},
     "output_type": "execute_result"
    }
   ],
   "source": [
    "tokenizer.decode(*gen_ids)"
   ]
  },
  {
   "cell_type": "code",
   "execution_count": 86,
   "id": "93642f0f",
   "metadata": {},
   "outputs": [
    {
     "ename": "ValueError",
     "evalue": "substring not found",
     "output_type": "error",
     "traceback": [
      "\u001b[0;31m---------------------------------------------------------------------------\u001b[0m",
      "\u001b[0;31mValueError\u001b[0m                                Traceback (most recent call last)",
      "\u001b[0;32m/tmp/ipykernel_31/1708714465.py\u001b[0m in \u001b[0;36m<module>\u001b[0;34m\u001b[0m\n\u001b[0;32m----> 1\u001b[0;31m \u001b[0mgen\u001b[0m\u001b[0;34m[\u001b[0m\u001b[0mgen\u001b[0m\u001b[0;34m.\u001b[0m\u001b[0mrfind\u001b[0m\u001b[0;34m(\u001b[0m\u001b[0;34m\"<sys>\"\u001b[0m\u001b[0;34m)\u001b[0m\u001b[0;34m+\u001b[0m\u001b[0;36m5\u001b[0m\u001b[0;34m:\u001b[0m\u001b[0mgen\u001b[0m\u001b[0;34m.\u001b[0m\u001b[0mindex\u001b[0m\u001b[0;34m(\u001b[0m\u001b[0;34m\"</s>\"\u001b[0m\u001b[0;34m)\u001b[0m\u001b[0;34m]\u001b[0m\u001b[0;34m\u001b[0m\u001b[0;34m\u001b[0m\u001b[0m\n\u001b[0m",
      "\u001b[0;31mValueError\u001b[0m: substring not found"
     ]
    }
   ],
   "source": [
    "gen[gen.rfind(\"<sys>\")+5:gen.index(\"</s>\")]"
   ]
  },
  {
   "cell_type": "code",
   "execution_count": 80,
   "id": "6a3760f0",
   "metadata": {},
   "outputs": [
    {
     "data": {
      "text/plain": [
       "' 아니 아직 안 먹음 ᄏᄏ<usr'"
      ]
     },
     "execution_count": 80,
     "metadata": {},
     "output_type": "execute_result"
    }
   ],
   "source": [
    "generated"
   ]
  },
  {
   "cell_type": "code",
   "execution_count": 77,
   "id": "49cf78e7",
   "metadata": {},
   "outputs": [
    {
     "data": {
      "text/plain": [
       "' 아니 아직 안 먹음 ᄏᄏ'"
      ]
     },
     "execution_count": 77,
     "metadata": {},
     "output_type": "execute_result"
    }
   ],
   "source": [
    "gen[gen.rfind(\"<sys>\")+5:gen.rfind(\"<usr>\")]"
   ]
  },
  {
   "cell_type": "code",
   "execution_count": 69,
   "id": "22f5a9dc",
   "metadata": {},
   "outputs": [
    {
     "data": {
      "text/plain": [
       "''"
      ]
     },
     "execution_count": 69,
     "metadata": {},
     "output_type": "execute_result"
    }
   ],
   "source": [
    "generated"
   ]
  },
  {
   "cell_type": "code",
   "execution_count": 56,
   "id": "d66d5980",
   "metadata": {},
   "outputs": [
    {
     "data": {
      "text/plain": [
       "1"
      ]
     },
     "execution_count": 56,
     "metadata": {},
     "output_type": "execute_result"
    }
   ],
   "source": [
    "tokenizer.get_vocab()[cfg.eos_token]"
   ]
  },
  {
   "cell_type": "code",
   "execution_count": 329,
   "id": "6e313d1b",
   "metadata": {},
   "outputs": [],
   "source": [
    "_input = '점심 먹었어?'\n",
    "input_word = cfg.bos_token + cfg.usr_token + _input + cfg.sys_token\n",
    "input_ids = tokenizer.encode(input_word, return_tensors=\"pt\").to(cfg.device)\n",
    "with torch.no_grad():\n",
    "    outputs = model(input_ids)"
   ]
  },
  {
   "cell_type": "code",
   "execution_count": 330,
   "id": "92382702",
   "metadata": {},
   "outputs": [
    {
     "data": {
      "text/plain": [
       "'아데먹었어?<sys> 응 '"
      ]
     },
     "execution_count": 330,
     "metadata": {},
     "output_type": "execute_result"
    }
   ],
   "source": [
    "tokenizer.decode(*torch.argmax(outputs.logits, dim=-1))"
   ]
  }
 ],
 "metadata": {
  "kernelspec": {
   "display_name": "Python 3 (ipykernel)",
   "language": "python",
   "name": "python3"
  },
  "language_info": {
   "codemirror_mode": {
    "name": "ipython",
    "version": 3
   },
   "file_extension": ".py",
   "mimetype": "text/x-python",
   "name": "python",
   "nbconvert_exporter": "python",
   "pygments_lexer": "ipython3",
   "version": "3.9.7"
  }
 },
 "nbformat": 4,
 "nbformat_minor": 5
}
